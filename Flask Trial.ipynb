{
 "cells": [
  {
   "cell_type": "code",
   "execution_count": 2,
   "id": "c3dfeb5d",
   "metadata": {},
   "outputs": [
    {
     "name": "stdout",
     "output_type": "stream",
     "text": [
      "Loaded Model from disk\n"
     ]
    }
   ],
   "source": [
    "# imports\n",
    "\n",
    "from keras.models import model_from_json \n",
    "\n",
    "# opening and store file in a variable\n",
    "\n",
    "json_file = open('model.json','r')\n",
    "loaded_model_json = json_file.read()\n",
    "json_file.close()\n",
    "\n",
    "# use Keras model_from_json to make a loaded model\n",
    "\n",
    "loaded_model = model_from_json(loaded_model_json)\n",
    "\n",
    "# load weights into new model\n",
    "\n",
    "loaded_model.load_weights(\"model.h5\")\n",
    "print(\"Loaded Model from disk\")\n",
    "\n",
    "# compile and evaluate loaded model\n",
    "\n",
    "loaded_model.compile(loss='categorical_crossentropy',optimizer='adam',metrics=['accuracy'])"
   ]
  },
  {
   "cell_type": "code",
   "execution_count": 11,
   "id": "205181ca",
   "metadata": {},
   "outputs": [
    {
     "data": {
      "text/plain": [
       "numpy.ndarray"
      ]
     },
     "execution_count": 11,
     "metadata": {},
     "output_type": "execute_result"
    }
   ],
   "source": [
    "from PIL import Image\n",
    "import numpy as np\n",
    "x = np.asarray(Image.open('ISIC_0024306.jpg').resize((100,75)))\n",
    "type(x)"
   ]
  },
  {
   "cell_type": "code",
   "execution_count": 15,
   "id": "5fe757e7",
   "metadata": {},
   "outputs": [],
   "source": [
    "img = x.reshape((1,75,100,3))"
   ]
  },
  {
   "cell_type": "code",
   "execution_count": 18,
   "id": "168c9644",
   "metadata": {},
   "outputs": [
    {
     "data": {
      "text/plain": [
       "(1, 75, 100, 3)"
      ]
     },
     "execution_count": 18,
     "metadata": {},
     "output_type": "execute_result"
    }
   ],
   "source": [
    "np.shape(img)"
   ]
  },
  {
   "cell_type": "code",
   "execution_count": 20,
   "id": "fe375063",
   "metadata": {},
   "outputs": [],
   "source": [
    "out = loaded_model.predict(img)"
   ]
  },
  {
   "cell_type": "code",
   "execution_count": 24,
   "id": "59290687",
   "metadata": {},
   "outputs": [
    {
     "data": {
      "text/plain": [
       "'[6]'"
      ]
     },
     "execution_count": 24,
     "metadata": {},
     "output_type": "execute_result"
    }
   ],
   "source": [
    "np.array_str(np.argmax(out,axis=1))"
   ]
  },
  {
   "cell_type": "code",
   "execution_count": 38,
   "id": "3ff29772",
   "metadata": {},
   "outputs": [],
   "source": [
    "label=['Actinic keratoses',\n",
    "    'Basal cell carcinoma',\n",
    "    'Benign keratosis-like lesions',\n",
    "    'Dermatofibroma',\n",
    "    'Melanocytic nevi',\n",
    "    'Vascular lesions',\n",
    "    'Melanoma']"
   ]
  },
  {
   "cell_type": "code",
   "execution_count": 39,
   "id": "72d2a4d3",
   "metadata": {},
   "outputs": [
    {
     "data": {
      "text/plain": [
       "'Melanoma'"
      ]
     },
     "execution_count": 39,
     "metadata": {},
     "output_type": "execute_result"
    }
   ],
   "source": [
    "label[6]"
   ]
  },
  {
   "cell_type": "code",
   "execution_count": 40,
   "id": "ea50a290",
   "metadata": {},
   "outputs": [
    {
     "name": "stdout",
     "output_type": "stream",
     "text": [
      "1.0 Melanoma\n"
     ]
    }
   ],
   "source": [
    "prob = max(out[0])\n",
    "for i in np.argmax(out,axis=1):\n",
    "    cancer_type = label[6]\n",
    "print(prob, cancer_type)"
   ]
  }
 ],
 "metadata": {
  "kernelspec": {
   "display_name": "Python 3 (ipykernel)",
   "language": "python",
   "name": "python3"
  },
  "language_info": {
   "codemirror_mode": {
    "name": "ipython",
    "version": 3
   },
   "file_extension": ".py",
   "mimetype": "text/x-python",
   "name": "python",
   "nbconvert_exporter": "python",
   "pygments_lexer": "ipython3",
   "version": "3.9.7"
  }
 },
 "nbformat": 4,
 "nbformat_minor": 5
}
